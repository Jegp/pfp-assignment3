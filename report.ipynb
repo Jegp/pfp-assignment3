{
 "cells": [
  {
   "cell_type": "markdown",
   "metadata": {},
   "source": [
    "# APL Assignment\n",
    "\n",
    "Author: xtp778"
   ]
  },
  {
   "cell_type": "markdown",
   "metadata": {},
   "source": [
    "# Exercise 1.1"
   ]
  },
  {
   "cell_type": "code",
   "execution_count": 38,
   "metadata": {},
   "outputs": [
    {
     "name": "stdout",
     "output_type": "stream",
     "text": [
      "10 8 10 32 26\n",
      "\n"
     ]
    }
   ],
   "source": [
    "%%bash\n",
    "apl -s <<EOF\n",
    "sumsq ← {(⍺*2)+(⍵*2)}\n",
    "1 2 3 4 5 sumsq 3 2 1 4 1\n",
    ")OFF\n",
    "EOF"
   ]
  },
  {
   "cell_type": "markdown",
   "metadata": {},
   "source": [
    "# Exercise 1.2"
   ]
  },
  {
   "cell_type": "code",
   "execution_count": 119,
   "metadata": {},
   "outputs": [
    {
     "name": "stdout",
     "output_type": "stream",
     "text": [
      "1\n",
      "2\n",
      "3\n",
      "5\n",
      "\n"
     ]
    }
   ],
   "source": [
    "%%bash\n",
    "apl -s <<EOF\n",
    "divs ← {+/0⍷⍺|⍳⍵}\n",
    "divs37 ← {(3 divs ⍵)+(7 divs ⍵)}\n",
    "divs37 3\n",
    "divs37 6\n",
    "divs37 7\n",
    "divs37 12\n",
    ")OFF\n",
    "EOF"
   ]
  },
  {
   "cell_type": "markdown",
   "metadata": {},
   "source": [
    "# Exercise 1.3"
   ]
  },
  {
   "cell_type": "code",
   "execution_count": 10,
   "metadata": {},
   "outputs": [
    {
     "name": "stdout",
     "output_type": "stream",
     "text": [
      "101\n",
      "\n"
     ]
    }
   ],
   "source": [
    "%%bash\n",
    "apl -s <<EOF\n",
    "sumsecond ← {+/⍵[(2×⍳(⍴⍵)÷2) - 1]}\n",
    "sumsecond 1 2 3 4 5 7 92 2\n",
    ")OFF\n",
    "EOF"
   ]
  },
  {
   "cell_type": "markdown",
   "metadata": {},
   "source": [
    "# Exercise 2.1"
   ]
  },
  {
   "cell_type": "markdown",
   "metadata": {},
   "source": [
    "This code could not execute in GNU APL (``bad char in execute+``), so the following was run in [tryapl.org]():\n",
    "\n",
    "```apl\n",
    "    xscanl ← { 0=⊃⍴⍵: ⍬ ⋄ ⍵⍵ , (⍺⍺ ∇∇ (⍵⍵ ⍺⍺ ⊃⍵)) 1↓⍵ }\n",
    "    (- xscanl 0) 1 2 3 4\n",
    "0 ¯1 ¯3 ¯6\n",
    "    o ← {0⌊⍺+⍵}\n",
    "    minsum ← {⌊/(o xscanl 0) ⍵}\n",
    "```\n",
    "\n",
    "An example to prove that the `minsum` works using the `xscanl` function requires\n",
    "a segment of relatively smaller numbers in a longer segment. For instance `[-2 1 -3]`\n",
    "in the sequence ¯2 1 ¯3 4 ¯1 2 1 ¯2 4 (borrowed from [Wikipedia](https://en.wikipedia.org/wiki/Maximum_subarray_problem)).\n",
    "\n",
    "```apl\n",
    "    minsum ¯2 1 ¯3 4 ¯1 2 1 ¯2 4\n",
    "-4\n",
    "```\n",
    "\n",
    "Which is correct, since `-2 + 1 -3 = -4`. Introducing a segment that is smaller gives\n",
    "another result:\n",
    "\n",
    "```apl\n",
    "    minsum ¯2 1 ¯3 4 ¯1 2 1 ¯2 4 ¯5 1 ¯3\n",
    "-5\n",
    "```\n",
    "\n",
    "Which is actually unexpected, since `-5 > (-5 + 1 - 3)`. Appending a number (0) appears to\n",
    "fix the problem:\n",
    "\n",
    "```apl\n",
    "minsum ¯2 1 ¯3 4 ¯1 2 1 ¯2 4 ¯5 1 ¯3 0\n",
    "-7\n",
    "```\n",
    "\n",
    "Which is correct, since `-5 + 1 -3 = -7`.\n",
    "\n",
    "In conclusion the algorithm seems to work, although it has some challenges with locating\n",
    "minimum segment sum in the end of a list."
   ]
  },
  {
   "cell_type": "markdown",
   "metadata": {},
   "source": [
    "# Exercise 2.2\n",
    "\n",
    "The code for `o`: ``o ← {0⌊⍺+⍵}`` is not possible to parallelise because it is not associative\n",
    "in the setting of `xscanl`. Associativity is important in this case because the order that\n",
    "the `xscanl` function recursively finds the smallest element matters.\n",
    "joining of ⍺ and ⍵ matters. \n",
    "The function `⌊` will take the minimum of 0 and the sum of each element in `⍺` and `⍵`. If\n",
    "the sum of two elements in `⍺` and `⍵` is greater than 0, 0 will be returned.\n"
   ]
  },
  {
   "cell_type": "markdown",
   "metadata": {},
   "source": [
    "# Exercise 3"
   ]
  },
  {
   "cell_type": "code",
   "execution_count": 42,
   "metadata": {},
   "outputs": [
    {
     "name": "stdout",
     "output_type": "stream",
     "text": [
      " 92  7 \n",
      "\n"
     ]
    }
   ],
   "source": [
    "%%bash\n",
    "apl -s <<EOF\n",
    "maxidx ← {⍵[1↑⍒⍵] 1↑⍒⍵}\n",
    "maxidx 1 2 3 4 5 7 92 2\n",
    ")OFF\n",
    "EOF"
   ]
  },
  {
   "cell_type": "markdown",
   "metadata": {},
   "source": [
    "# Exercise 4"
   ]
  },
  {
   "cell_type": "code",
   "execution_count": 135,
   "metadata": {},
   "outputs": [
    {
     "name": "stdout",
     "output_type": "stream",
     "text": [
      " 3 \n",
      " 8 \n",
      " 2 \n",
      "¯∞\n",
      "\n"
     ]
    }
   ],
   "source": [
    "%%bash\n",
    "apl -s <<EOF\n",
    "longestdecr ← { 1 + ⌈/(⍴¨(⍵=(¯1⌽⍵-1))⊂⍵) }\n",
    "longestdecr 5 4 7 1 9 8 7 2 ¯1 2 ⍝ 3\n",
    "longestdecr 5 4 7 1 9 8 7 6 5 4 3 2 ¯1 2 ⍝ 8\n",
    "longestdecr 5 4 7 1 8 ¯6 4 2 ¯1 2 ⍝ 2\n",
    "longestdecr 5 3 1 ⍝ 1\n",
    ")OFF\n",
    "EOF"
   ]
  },
  {
   "cell_type": "markdown",
   "metadata": {},
   "source": [
    "Note: This solution assumes that a list of length 2 or more is passed and that the longest sequence of decending numbers is at least 2."
   ]
  }
 ],
 "metadata": {
  "kernelspec": {
   "display_name": "Python 3",
   "language": "python",
   "name": "python3"
  },
  "language_info": {
   "codemirror_mode": {
    "name": "ipython",
    "version": 3
   },
   "file_extension": ".py",
   "mimetype": "text/x-python",
   "name": "python",
   "nbconvert_exporter": "python",
   "pygments_lexer": "ipython3",
   "version": "3.6.4rc1"
  }
 },
 "nbformat": 4,
 "nbformat_minor": 2
}
