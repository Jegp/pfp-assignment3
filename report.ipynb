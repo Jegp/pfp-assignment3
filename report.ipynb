{
 "cells": [
  {
   "cell_type": "markdown",
   "metadata": {},
   "source": [
    "# APL Assignment\n",
    "\n",
    "Author: xtp778"
   ]
  },
  {
   "cell_type": "markdown",
   "metadata": {},
   "source": [
    "# Exercise 1.1"
   ]
  },
  {
   "cell_type": "code",
   "execution_count": 38,
   "metadata": {},
   "outputs": [
    {
     "name": "stdout",
     "output_type": "stream",
     "text": [
      "10 8 10 32 26\n",
      "\n"
     ]
    }
   ],
   "source": [
    "%%bash\n",
    "apl -s <<EOF\n",
    "sumsq ← {(⍺*2)+(⍵*2)}\n",
    "1 2 3 4 5 sumsq 3 2 1 4 1\n",
    ")OFF\n",
    "EOF"
   ]
  },
  {
   "cell_type": "markdown",
   "metadata": {},
   "source": [
    "# Exercise 1.2"
   ]
  },
  {
   "cell_type": "code",
   "execution_count": 119,
   "metadata": {},
   "outputs": [
    {
     "name": "stdout",
     "output_type": "stream",
     "text": [
      "1\n",
      "2\n",
      "3\n",
      "5\n",
      "\n"
     ]
    }
   ],
   "source": [
    "%%bash\n",
    "apl -s <<EOF\n",
    "divs ← {+/0⍷⍺|⍳⍵}\n",
    "divs37 ← {(3 divs ⍵)+(7 divs ⍵)}\n",
    "divs37 3\n",
    "divs37 6\n",
    "divs37 7\n",
    "divs37 12\n",
    ")OFF\n",
    "EOF"
   ]
  },
  {
   "cell_type": "markdown",
   "metadata": {},
   "source": [
    "# Exercise 1.3"
   ]
  },
  {
   "cell_type": "code",
   "execution_count": 236,
   "metadata": {},
   "outputs": [
    {
     "name": "stdout",
     "output_type": "stream",
     "text": [
      "101\n",
      "\n"
     ]
    }
   ],
   "source": [
    "%%bash\n",
    "apl -s <<EOF\n",
    "sumsecond ← {+/⍵[(2×⍳(⍴⍵)÷2) - 1]}\n",
    "sumsecond 1 2 3 4 5 7 92 2\n",
    ")OFF\n",
    "EOF"
   ]
  },
  {
   "cell_type": "code",
   "execution_count": null,
   "metadata": {},
   "outputs": [],
   "source": []
  }
 ],
 "metadata": {
  "kernelspec": {
   "display_name": "Python 3",
   "language": "python",
   "name": "python3"
  },
  "language_info": {
   "codemirror_mode": {
    "name": "ipython",
    "version": 3
   },
   "file_extension": ".py",
   "mimetype": "text/x-python",
   "name": "python",
   "nbconvert_exporter": "python",
   "pygments_lexer": "ipython3",
   "version": "3.6.4rc1"
  }
 },
 "nbformat": 4,
 "nbformat_minor": 2
}
